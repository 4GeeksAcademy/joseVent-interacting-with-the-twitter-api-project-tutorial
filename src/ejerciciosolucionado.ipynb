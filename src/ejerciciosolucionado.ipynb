{
 "cells": [
  {
   "cell_type": "code",
   "execution_count": 1,
   "metadata": {},
   "outputs": [
    {
     "name": "stdout",
     "output_type": "stream",
     "text": [
      "[{'name': 'Mockingbird', 'popularity': 90, 'duration_min': 4.179333333333333}, {'name': 'Without Me', 'popularity': 90, 'duration_min': 4.838666666666667}, {'name': 'The Real Slim Shady', 'popularity': 88, 'duration_min': 4.736666666666666}, {'name': 'Lose Yourself', 'popularity': 79, 'duration_min': 5.4411}, {'name': 'Superman', 'popularity': 88, 'duration_min': 5.838666666666667}, {'name': 'Till I Collapse', 'popularity': 86, 'duration_min': 4.9631}, {'name': 'Love The Way You Lie', 'popularity': 85, 'duration_min': 4.38955}, {'name': 'Godzilla (feat. Juice WRLD)', 'popularity': 84, 'duration_min': 3.513333333333333}, {'name': 'Stan', 'popularity': 84, 'duration_min': 6.7351}, {'name': 'Not Afraid', 'popularity': 82, 'duration_min': 4.13555}]\n",
      "                  name  popularity  duration_min\n",
      "0          Mockingbird          90      4.179333\n",
      "1           Without Me          90      4.838667\n",
      "2  The Real Slim Shady          88      4.736667\n"
     ]
    },
    {
     "data": {
      "image/png": "[encoded data removed]",
      "text/plain": [
       "<Figure size 640x480 with 1 Axes>"
      ]
     },
     "metadata": {},
     "output_type": "display_data"
    }
   ],
   "source": [
    "import matplotlib.pyplot as plt\n",
    "\n",
    "\n",
    "\n",
    "from dotenv import load_dotenv\n",
    "#lee env\n",
    "\n",
    "import os \n",
    "#interactua con sistema opertativo \n",
    "\n",
    "\n",
    "import spotipy\n",
    "from spotipy.oauth2 import SpotifyClientCredentials\n",
    "import pandas as pd\n",
    "import seaborn as sns\n",
    "\n",
    "# Cargar variables de entorno desde el archivo .env\n",
    "load_dotenv()\n",
    "\n",
    "# Obtener las credenciales del cliente de Spotify del archivo .env\n",
    "client_id = os.environ.get(\"CLIENT_ID\")\n",
    "client_secret = os.environ.get(\"CLIENT_SECRET\")\n",
    "\n",
    "# Crear una instancia de Spotify con autenticación\n",
    "\n",
    "auth_manager = SpotifyClientCredentials( client_id = client_id, client_secret = client_secret)\n",
    "sp = spotipy.Spotify(auth_manager=auth_manager)\n",
    "\n",
    "\n",
    "\n",
    "\n",
    "#Definir el ID del artista para obtener las mejores canciones\n",
    "\n",
    "\n",
    "eminem_id= \"7dGJo4pcD2V6oG8kP0tJRR\"\n",
    "\n",
    "# Obtener las mejores canciones del artista\n",
    "response = sp.artist_top_tracks(eminem_id)\n",
    "\n",
    "\n",
    "if response:\n",
    "    #Extraer los datos relevantes de cada canción\n",
    "    tracks = []\n",
    "    for track in response[\"tracks\"][:10]:\n",
    "        track_data = {\n",
    "            \"name\": track[\"name\"],\n",
    "            \"popularity\": track[\"popularity\"],\n",
    "            \"duration_min\": track[\"duration_ms\"] / (1000 * 60)\n",
    "        }\n",
    "        tracks.append(track_data)\n",
    "\n",
    "# Imprimir los datos extraídos para verificar si la clave \"popularity\" está presente\n",
    "print(tracks)\n",
    "\n",
    "# Crear un DataFrame de pandas con los datos de las canciones\n",
    "tracks_df = pd.DataFrame(tracks)\n",
    "\n",
    "# Ordenar el DataFrame por popularidad en orden descendente\n",
    "tracks_df.sort_values([\"popularity\"], ascending=False, inplace=True)\n",
    "\n",
    "#Imprimir las primeras tres filas del DataFrame\n",
    "print(tracks_df.head(3))\n",
    "\n",
    "   # Crear un gráfico de dispersión utilizando seaborn\n",
    "import seaborn as sns\n",
    "scatter_plot = sns.scatterplot(data=tracks_df, x=\"popularity\", y=\"duration_min\")\n",
    "scatter_plot.set(xlabel=\"Popularity\", ylabel=\"Duration (min)\")\n",
    "fig = scatter_plot.get_figure()\n",
    "fig.savefig(\"scatter_plot.png\")"
   ]
  }
 ],
 "metadata": {
  "kernelspec": {
   "display_name": "Python 3",
   "language": "python",
   "name": "python3"
  },
  "language_info": {
   "codemirror_mode": {
    "name": "ipython",
    "version": 3
   },
   "file_extension": ".py",
   "mimetype": "text/x-python",
   "name": "python",
   "nbconvert_exporter": "python",
   "pygments_lexer": "ipython3",
   "version": "3.10.8"
  },
  "orig_nbformat": 4
 },
 "nbformat": 4,
 "nbformat_minor": 2
}
